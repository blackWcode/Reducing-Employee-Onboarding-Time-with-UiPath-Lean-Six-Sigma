{
 "cells": [
  {
   "cell_type": "markdown",
   "id": "c1247f84",
   "metadata": {},
   "source": [
    "# HR Onboarding Data Analysis – Python Notebook\n",
    "This notebook performs data cleaning and exploratory analysis on the HR onboarding dataset."
   ]
  },
  {
   "cell_type": "code",
   "execution_count": null,
   "id": "97f58cd0",
   "metadata": {},
   "outputs": [],
   "source": [
    "# 1. Load Libraries\n",
    "import pandas as pd\n",
    "import matplotlib.pyplot as plt\n",
    "import seaborn as sns"
   ]
  },
  {
   "cell_type": "code",
   "execution_count": null,
   "id": "c5cbca29",
   "metadata": {},
   "outputs": [],
   "source": [
    "# 2. Load Dataset\n",
    "df = pd.read_excel('realistic_hr_onboarding_data.xlsx')"
   ]
  },
  {
   "cell_type": "code",
   "execution_count": null,
   "id": "1572faba",
   "metadata": {},
   "outputs": [],
   "source": [
    "# 3. Preview Data\n",
    "df.head()"
   ]
  },
  {
   "cell_type": "code",
   "execution_count": null,
   "id": "373f16c6",
   "metadata": {},
   "outputs": [],
   "source": [
    "# 4. Data Info & Summary\n",
    "df.info()\n",
    "df.describe()"
   ]
  },
  {
   "cell_type": "code",
   "execution_count": null,
   "id": "b45a3ab0",
   "metadata": {},
   "outputs": [],
   "source": [
    "# 5. Check for Missing Values and Duplicates\n",
    "print(\"Missing values:\\n\", df.isnull().sum())\n",
    "print(\"Duplicates:\", df.duplicated().sum())"
   ]
  },
  {
   "cell_type": "code",
   "execution_count": null,
   "id": "6400c8f3",
   "metadata": {},
   "outputs": [],
   "source": [
    "# 6. Clean Column Names (if needed)\n",
    "df.columns = df.columns.str.strip().str.replace(' ', '_')"
   ]
  },
  {
   "cell_type": "code",
   "execution_count": null,
   "id": "9cd552e4",
   "metadata": {},
   "outputs": [],
   "source": [
    "# 7. Visualize Processing Time Distribution\n",
    "plt.figure(figsize=(10, 5))\n",
    "sns.histplot(df['Processing_Time_(min)'], bins=30, kde=True)\n",
    "plt.title('Distribution of Processing Time')\n",
    "plt.xlabel('Time (minutes)')\n",
    "plt.ylabel('Frequency')\n",
    "plt.show()"
   ]
  },
  {
   "cell_type": "code",
   "execution_count": null,
   "id": "7a178a1f",
   "metadata": {},
   "outputs": [],
   "source": [
    "# 8. Step Completion Rates\n",
    "step_cols = [\n",
    "    'Offer_Letter_Status', 'Documents_Status', 'References_Status', 'Policies_Status',\n",
    "    'Vetting_Status', 'Contract_Status', 'Folder_Status', 'Final_Email_Status'\n",
    "]\n",
    "for col in step_cols:\n",
    "    print(f\"\\n{col} Completion Rate:\")\n",
    "    print(df[col].value_counts(normalize=True))"
   ]
  },
  {
   "cell_type": "code",
   "execution_count": null,
   "id": "b9a1fcbb",
   "metadata": {},
   "outputs": [],
   "source": [
    "# 9. Average Processing Time by Office\n",
    "avg_time_office = df.groupby('Office')['Processing_Time_(min)'].mean().sort_values()\n",
    "print(\"Average Processing Time by Office:\\n\", avg_time_office)"
   ]
  },
  {
   "cell_type": "code",
   "execution_count": null,
   "id": "fa9c2852",
   "metadata": {},
   "outputs": [],
   "source": [
    "# 10. Correlation Between Delayed Steps (Heatmap)\n",
    "delay_df = df[step_cols].apply(lambda x: x == 'Delayed').astype(int)\n",
    "plt.figure(figsize=(8, 6))\n",
    "sns.heatmap(delay_df.corr(), annot=True, cmap='Reds')\n",
    "plt.title('Correlation Between Delays in Onboarding Steps')\n",
    "plt.show()"
   ]
  },
  {
   "cell_type": "code",
   "execution_count": null,
   "id": "45fddf63",
   "metadata": {},
   "outputs": [],
   "source": [
    "# 11. Export Cleaned Data (Optional)\n",
    "df.to_csv('cleaned_hr_onboarding_data.csv', index=False)"
   ]
  }
 ],
 "metadata": {},
 "nbformat": 4,
 "nbformat_minor": 5
}
